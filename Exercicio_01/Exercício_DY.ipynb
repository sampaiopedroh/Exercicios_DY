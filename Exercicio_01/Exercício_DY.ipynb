{
  "nbformat": 4,
  "nbformat_minor": 0,
  "metadata": {
    "colab": {
      "provenance": []
    },
    "kernelspec": {
      "name": "python3",
      "display_name": "Python 3"
    },
    "language_info": {
      "name": "python"
    }
  },
  "cells": [
    {
      "cell_type": "code",
      "source": [
        "import random\n",
        "import time\n",
        "import sys"
      ],
      "metadata": {
        "id": "51j9EeMjmSAn"
      },
      "execution_count": 1,
      "outputs": []
    },
    {
      "cell_type": "markdown",
      "source": [
        "# Parte 1:\n",
        "### Gerenciamento de estruturas de dados (classificação por distância de Manhattan)"
      ],
      "metadata": {
        "id": "EBsp91BXmYuy"
      }
    },
    {
      "cell_type": "code",
      "source": [
        "import random\n",
        "\n",
        "def manhattan_distance(point):\n",
        "    return abs(point[0]) + abs(point[1])\n",
        "\n",
        "def merge_sort(points):\n",
        "    if len(points) <= 1:\n",
        "        return points\n",
        "\n",
        "    mid = len(points) // 2\n",
        "    left = points[:mid]\n",
        "    right = points[mid:]\n",
        "\n",
        "    left = merge_sort(left)\n",
        "    right = merge_sort(right)\n",
        "\n",
        "    return merge(left, right)\n",
        "\n",
        "def merge(left, right):\n",
        "    result = []\n",
        "    i = j = 0\n",
        "\n",
        "    while i < len(left) and j < len(right):\n",
        "        if manhattan_distance(left[i]) <= manhattan_distance(right[j]):\n",
        "            result.append(left[i])\n",
        "            i += 1\n",
        "        else:\n",
        "            result.append(right[j])\n",
        "            j += 1\n",
        "\n",
        "    result.extend(left[i:])\n",
        "    result.extend(right[j:])\n",
        "    return result\n",
        "\n",
        "\n",
        "# Geração de pontos aleatórios (exemplo)\n",
        "def generate_points(num_points):\n",
        "  return [(random.uniform(-100, 100), random.uniform(-100, 100)) for _ in range(num_points)]\n",
        "\n",
        "\n",
        "\n",
        "# Execução principal do programa com exemplos de uso\n",
        "\n",
        "# Define a quantidade de pontos com base no RA (par ou ímpar) - Adapte com seu RA real\n",
        "ra_example = 1234567  # Substitua pelo seu RA\n",
        "num_points = 10 if ra_example % 2 == 0 else 13\n",
        "\n",
        "# Gera os pontos aleatórios\n",
        "points = generate_points(num_points)\n",
        "\n",
        "\n",
        "# 1. Ordenação com Merge Sort\n",
        "sorted_points = merge_sort(points.copy())  # Use copy para não modificar a lista original\n",
        "\n",
        "\n",
        "\n",
        "# 2. Filtragem e reestruturação com list comprehension (exemplo)\n",
        "filtered_points = [(x, y) for x, y in sorted_points if x > 0 and y < 0]  # Adapte o filtro conforme necessário\n",
        "\n",
        "\n",
        "# 3. Armazenamento em tupla e dicionário\n",
        "points_tuple = tuple(points)\n",
        "points_dict = {point: manhattan_distance(point) for point in points}\n",
        "\n",
        "\n",
        "\n",
        "# Saídas para verificação\n",
        "print(\"Pontos originais:\", points_tuple)\n",
        "print(\"\\nPontos ordenados por distância de Manhattan:\", sorted_points)\n",
        "print(\"\\nPontos filtrados (exemplo):\", filtered_points)\n",
        "print(\"\\nDicionário de pontos e distâncias:\", points_dict)"
      ],
      "metadata": {
        "colab": {
          "base_uri": "https://localhost:8080/"
        },
        "id": "BUuF_a5Lmw8P",
        "outputId": "41d14376-da9c-4599-cadd-db1be80d7dff"
      },
      "execution_count": 22,
      "outputs": [
        {
          "output_type": "stream",
          "name": "stdout",
          "text": [
            "Pontos originais: ((-68.14975082449985, 0.3858458901230932), (43.74342722695556, 13.342029330564202), (-39.188240442587066, 93.25626649153239), (-90.20653097301778, 62.92002315203018), (47.96272987287119, 56.193708888876415), (-22.882740743170487, -69.93311497092758), (85.93693572116047, -56.080558746018404), (-38.66890844788542, 63.85132923275626), (30.515111109036525, 77.55606434082512), (-5.113940439031907, -37.558969707926934), (59.86634467149554, 6.549004893456711), (-47.4121509387089, 47.26161712596547), (-80.54768864100424, 77.78795072686754))\n",
            "\n",
            "Pontos ordenados por distância de Manhattan: [(-5.113940439031907, -37.558969707926934), (43.74342722695556, 13.342029330564202), (59.86634467149554, 6.549004893456711), (-68.14975082449985, 0.3858458901230932), (-22.882740743170487, -69.93311497092758), (-47.4121509387089, 47.26161712596547), (-38.66890844788542, 63.85132923275626), (47.96272987287119, 56.193708888876415), (30.515111109036525, 77.55606434082512), (-39.188240442587066, 93.25626649153239), (85.93693572116047, -56.080558746018404), (-90.20653097301778, 62.92002315203018), (-80.54768864100424, 77.78795072686754)]\n",
            "\n",
            "Pontos filtrados (exemplo): [(85.93693572116047, -56.080558746018404)]\n",
            "\n",
            "Dicionário de pontos e distâncias: {(-68.14975082449985, 0.3858458901230932): 68.53559671462294, (43.74342722695556, 13.342029330564202): 57.08545655751976, (-39.188240442587066, 93.25626649153239): 132.44450693411946, (-90.20653097301778, 62.92002315203018): 153.12655412504796, (47.96272987287119, 56.193708888876415): 104.15643876174761, (-22.882740743170487, -69.93311497092758): 92.81585571409806, (85.93693572116047, -56.080558746018404): 142.01749446717886, (-38.66890844788542, 63.85132923275626): 102.52023768064169, (30.515111109036525, 77.55606434082512): 108.07117544986164, (-5.113940439031907, -37.558969707926934): 42.67291014695884, (59.86634467149554, 6.549004893456711): 66.41534956495225, (-47.4121509387089, 47.26161712596547): 94.67376806467436, (-80.54768864100424, 77.78795072686754): 158.33563936787178}\n"
          ]
        }
      ]
    },
    {
      "cell_type": "markdown",
      "source": [
        "# Parte 2 e 3:\n",
        "### - Classificação de palavras por ordem personalizada\n",
        "### - Medição de desempenho"
      ],
      "metadata": {
        "id": "9hczR1fJnq5e"
      }
    },
    {
      "cell_type": "code",
      "source": [
        "import time\n",
        "import sys\n",
        "\n",
        "def merge_sort(arr, priority):\n",
        "    if len(arr) <= 1:\n",
        "        return arr\n",
        "\n",
        "    mid = len(arr) // 2\n",
        "    left = arr[:mid]\n",
        "    right = arr[mid:]\n",
        "\n",
        "    left = merge_sort(left, priority)\n",
        "    right = merge_sort(right, priority)\n",
        "\n",
        "    return merge(left, right, priority)\n",
        "\n",
        "def merge(left, right, priority):\n",
        "    result = []\n",
        "    i = j = 0\n",
        "\n",
        "    while i < len(left) and j < len(right):\n",
        "        if compare_words(left[i], right[j], priority) <= 0:\n",
        "            result.append(left[i])\n",
        "            i += 1\n",
        "        else:\n",
        "            result.append(right[j])\n",
        "            j += 1\n",
        "\n",
        "    result.extend(left[i:])\n",
        "    result.extend(right[j:])\n",
        "    return result\n",
        "\n",
        "def quick_sort(arr, priority):\n",
        "    if len(arr) <= 1:\n",
        "        return arr\n",
        "\n",
        "    pivot = arr[len(arr) // 2]\n",
        "    left = [x for x in arr if compare_words(x, pivot, priority) < 0]\n",
        "    middle = [x for x in arr if compare_words(x, pivot, priority) == 0]\n",
        "    right = [x for x in arr if compare_words(x, pivot, priority) > 0]\n",
        "\n",
        "    return quick_sort(left, priority) + middle + quick_sort(right, priority)\n",
        "\n",
        "def compare_words(word1, word2, priority):\n",
        "    min_len = min(len(word1), len(word2))\n",
        "\n",
        "    for k in range(min_len):\n",
        "        char1 = word1[k]\n",
        "        char2 = word2[k]\n",
        "\n",
        "        p1 = priority.get(char1, 0)  # Prioridade padrão 0 se não estiver no dicionário\n",
        "        p2 = priority.get(char2, 0)\n",
        "\n",
        "        if p1 < p2:\n",
        "            return -1\n",
        "        elif p1 > p2:\n",
        "            return 1\n",
        "\n",
        "    if len(word1) < len(word2):\n",
        "        return -1\n",
        "    elif len(word1) > len(word2):\n",
        "        return 1\n",
        "    else:\n",
        "        return 0\n",
        "\n",
        "\n",
        "# Dados de exemplo (adapte para os seus dados)\n",
        "words = [\"maçã\", \"banana\", \"cereja\", 'abacate', 'melancia', 'bolo', 'manga', 'cerveja', 'melaço',  'mamao', 'abacaxi']\n",
        "priority = {'a': 1, 'b': 2, 'c': 3, 'e': 4, 'h': 5, 'l': 6, 'm': 7, 'n': 8, 'o': 9, 'p': 10, 'r': 11, 'x': 12, 'ç':13}\n",
        "\n",
        "\n",
        "# Testes de desempenho\n",
        "start_time = time.time()\n",
        "sorted_words_merge = merge_sort(words.copy(), priority)\n",
        "end_time = time.time()\n",
        "merge_time = end_time - start_time\n",
        "merge_memory = sys.getsizeof(sorted_words_merge)\n",
        "\n",
        "start_time = time.time()\n",
        "sorted_words_quick = quick_sort(words.copy(), priority)\n",
        "end_time = time.time()\n",
        "quick_time = end_time - start_time\n",
        "quick_memory = sys.getsizeof(sorted_words_quick)\n",
        "\n",
        "\n",
        "print(\"Ordenação Merge Sort:\")\n",
        "print(\"Tempo:\", merge_time)\n",
        "print(\"Memória:\", merge_memory)\n",
        "print(\"Resultado:\", sorted_words_merge)\n",
        "\n",
        "print(\"\\nOrdenação Quick Sort:\")\n",
        "print(\"Tempo:\", quick_time)\n",
        "print(\"Memória:\", quick_memory)\n",
        "print(\"Resultado:\", sorted_words_quick)"
      ],
      "metadata": {
        "colab": {
          "base_uri": "https://localhost:8080/"
        },
        "id": "9iRFrHT1nvn0",
        "outputId": "64c49a4b-2c16-4b37-db64-a89d18f6fc12"
      },
      "execution_count": 20,
      "outputs": [
        {
          "output_type": "stream",
          "name": "stdout",
          "text": [
            "Ordenação Merge Sort:\n",
            "Tempo: 0.00014138221740722656\n",
            "Memória: 184\n",
            "Resultado: ['abacate', 'abacaxi', 'banana', 'bolo', 'cerveja', 'cereja', 'mamao', 'manga', 'maçã', 'melancia', 'melaço']\n",
            "\n",
            "Ordenação Quick Sort:\n",
            "Tempo: 0.00016379356384277344\n",
            "Memória: 144\n",
            "Resultado: ['abacate', 'abacaxi', 'banana', 'bolo', 'cerveja', 'cereja', 'mamao', 'manga', 'maçã', 'melancia', 'melaço']\n"
          ]
        }
      ]
    }
  ]
}